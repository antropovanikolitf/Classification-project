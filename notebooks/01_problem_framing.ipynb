{
 "cells": [
  {
   "cell_type": "markdown",
   "metadata": {},
   "source": [
    "# Wine Classification (Red vs White) — Problem Framing\n",
    "\n",
    "## Context\n",
    "Using the UCI Wine Quality dataset (Portuguese Vinho Verde, 2004-2007), we're building a binary classifier to distinguish red from white wines based on 11 physicochemical properties. Why? Because chemistry reveals patterns invisible to the eye, and automated classification has real applications in quality control, inventory management, and fraud detection.\n",
    "\n",
    "## Today's Scope\n",
    "**We present Notebooks 01–02 only** — problem framing and data understanding. Modeling starts in notebook 03 (future work).\n",
    "\n",
    "## Why This Matters\n",
    "- **Quality Control**: Rapid verification without tasting every batch\n",
    "- **Education**: Teaching classification concepts with interpretable features\n",
    "- **Consumer Transparency**: Understanding what makes wines chemically distinct"
   ]
  },
  {
   "cell_type": "code",
   "execution_count": 1,
   "metadata": {
    "ExecuteTime": {
     "end_time": "2025-09-18T09:25:17.289711Z",
     "start_time": "2025-09-18T09:25:17.286479Z"
    },
    "execution": {
     "iopub.execute_input": "2025-09-18T09:58:34.246633Z",
     "iopub.status.busy": "2025-09-18T09:58:34.246405Z",
     "iopub.status.idle": "2025-09-18T09:58:35.566555Z",
     "shell.execute_reply": "2025-09-18T09:58:35.566275Z"
    }
   },
   "outputs": [
    {
     "name": "stdout",
     "output_type": "stream",
     "text": [
      "Environment:\n",
      "Python: 3.12.7\n",
      "pandas: 2.1.4\n",
      "numpy: 1.26.2\n",
      "scikit-learn: 1.3.2\n",
      "matplotlib: 3.8.2\n",
      "seaborn: 0.13.0\n"
     ]
    }
   ],
   "source": [
    "import sys\n",
    "import pandas as pd\n",
    "import numpy as np\n",
    "import matplotlib.pyplot as plt\n",
    "import seaborn as sns\n",
    "import sklearn\n",
    "import warnings\n",
    "warnings.filterwarnings('ignore')\n",
    "\n",
    "# Reproducibility\n",
    "np.random.seed(42)\n",
    "plt.style.use('seaborn-v0_8-darkgrid')\n",
    "\n",
    "# Version check for reproducibility\n",
    "print(\"Environment:\")\n",
    "print(f\"Python: {sys.version.split()[0]}\")\n",
    "print(f\"pandas: {pd.__version__}\")\n",
    "print(f\"numpy: {np.__version__}\")\n",
    "print(f\"scikit-learn: {sklearn.__version__}\")\n",
    "print(f\"matplotlib: {plt.matplotlib.__version__}\")\n",
    "print(f\"seaborn: {sns.__version__}\")"
   ]
  },
  {
   "cell_type": "markdown",
   "metadata": {},
   "source": [
    "## Problem Definition\n",
    "\n",
    "### The Task\n",
    "**Binary classification**: Given 11 chemical measurements, predict wine type (red=0, white=1).\n",
    "\n",
    "### Five-Part Specification\n",
    "**Predict whether** a wine sample **is** red or white **at** testing time **using** laboratory chemistry **to enable** automated quality control.\n",
    "\n",
    "- **Decision**: Wine type (binary)\n",
    "- **Unit**: Individual wine sample\n",
    "- **Horizon**: Immediate (at chemical analysis)\n",
    "- **Evidence**: pH, alcohol, sulfur dioxide, acidity, etc.\n",
    "- **Action**: Route to appropriate storage/processing"
   ]
  },
  {
   "cell_type": "markdown",
   "metadata": {},
   "source": [
    "## 2. Business Context & Stakeholders\n",
    "\n",
    "### Primary Stakeholders\n",
    "- **Wine Producers**: Need rapid quality assessment\n",
    "- **Quality Control Teams**: Require consistent classification\n",
    "- **Inventory Managers**: Need accurate sorting\n",
    "\n",
    "### Impact Assessment\n",
    "- **Benefits**: Automated sorting, reduced labor costs, consistent quality\n",
    "- **Risks**: Misclassification could affect pricing and customer satisfaction"
   ]
  },
  {
   "cell_type": "markdown",
   "metadata": {},
   "source": [
    "## Stakeholders & Impact\n",
    "\n",
    "### Who Benefits\n",
    "- **QC Teams**: Faster batch verification, reduced manual testing\n",
    "- **Educators**: Clean dataset for teaching classification fundamentals\n",
    "- **Data Practitioners**: Benchmark for testing new algorithms\n",
    "\n",
    "### Limitations We Acknowledge\n",
    "- **Chemistry ≠ Taste**: We classify type, not quality or preference\n",
    "- **Regional Bias**: Portuguese wines only — may not generalize globally\n",
    "- **Static Snapshot**: 2004-2007 data, wine chemistry evolves with climate\n",
    "\n",
    "### Ethics & Sustainability\n",
    "- **Bias**: Model trained on one region's wines could misclassify others\n",
    "- **Environmental**: Automated testing reduces chemical waste, but consider compute costs\n",
    "- **Transport**: Better classification could optimize shipping (reds/whites have different storage needs)"
   ]
  },
  {
   "cell_type": "code",
   "execution_count": 2,
   "metadata": {
    "ExecuteTime": {
     "end_time": "2025-09-18T09:25:17.305500Z",
     "start_time": "2025-09-18T09:25:17.295130Z"
    },
    "execution": {
     "iopub.execute_input": "2025-09-18T09:58:35.585051Z",
     "iopub.status.busy": "2025-09-18T09:58:35.584869Z",
     "iopub.status.idle": "2025-09-18T09:58:35.598878Z",
     "shell.execute_reply": "2025-09-18T09:58:35.598641Z"
    }
   },
   "outputs": [
    {
     "name": "stdout",
     "output_type": "stream",
     "text": [
      "Dataset shape: (6497, 13)\n",
      "Red wines: 1599 samples (24.6%)\n",
      "White wines: 4898 samples (75.4%)\n"
     ]
    }
   ],
   "source": [
    "# Load datasets\n",
    "red_wine = pd.read_csv('../data/winequality-red.csv', delimiter=';')\n",
    "white_wine = pd.read_csv('../data/winequality-white.csv', delimiter=';')\n",
    "\n",
    "# Add wine type labels\n",
    "red_wine['wine_type'] = 0  # Red\n",
    "white_wine['wine_type'] = 1  # White\n",
    "\n",
    "# Combine datasets\n",
    "wine_data = pd.concat([red_wine, white_wine], ignore_index=True)\n",
    "\n",
    "print(f\"Dataset shape: {wine_data.shape}\")\n",
    "print(f\"Red wines: {len(red_wine)} samples ({len(red_wine)/len(wine_data)*100:.1f}%)\")\n",
    "print(f\"White wines: {len(white_wine)} samples ({len(white_wine)/len(wine_data)*100:.1f}%)\")"
   ]
  },
  {
   "cell_type": "code",
   "execution_count": 3,
   "metadata": {
    "ExecuteTime": {
     "end_time": "2025-09-18T09:25:17.329183Z",
     "start_time": "2025-09-18T09:25:17.322086Z"
    },
    "execution": {
     "iopub.execute_input": "2025-09-18T09:58:35.600176Z",
     "iopub.status.busy": "2025-09-18T09:58:35.600033Z",
     "iopub.status.idle": "2025-09-18T09:58:35.606852Z",
     "shell.execute_reply": "2025-09-18T09:58:35.606668Z"
    }
   },
   "outputs": [
    {
     "data": {
      "text/html": [
       "<div>\n",
       "<style scoped>\n",
       "    .dataframe tbody tr th:only-of-type {\n",
       "        vertical-align: middle;\n",
       "    }\n",
       "\n",
       "    .dataframe tbody tr th {\n",
       "        vertical-align: top;\n",
       "    }\n",
       "\n",
       "    .dataframe thead th {\n",
       "        text-align: right;\n",
       "    }\n",
       "</style>\n",
       "<table border=\"1\" class=\"dataframe\">\n",
       "  <thead>\n",
       "    <tr style=\"text-align: right;\">\n",
       "      <th></th>\n",
       "      <th>fixed acidity</th>\n",
       "      <th>volatile acidity</th>\n",
       "      <th>citric acid</th>\n",
       "      <th>residual sugar</th>\n",
       "      <th>chlorides</th>\n",
       "      <th>free sulfur dioxide</th>\n",
       "      <th>total sulfur dioxide</th>\n",
       "      <th>density</th>\n",
       "      <th>pH</th>\n",
       "      <th>sulphates</th>\n",
       "      <th>alcohol</th>\n",
       "      <th>quality</th>\n",
       "      <th>wine_type</th>\n",
       "    </tr>\n",
       "  </thead>\n",
       "  <tbody>\n",
       "    <tr>\n",
       "      <th>0</th>\n",
       "      <td>7.4</td>\n",
       "      <td>0.70</td>\n",
       "      <td>0.00</td>\n",
       "      <td>1.9</td>\n",
       "      <td>0.076</td>\n",
       "      <td>11.0</td>\n",
       "      <td>34.0</td>\n",
       "      <td>0.9978</td>\n",
       "      <td>3.51</td>\n",
       "      <td>0.56</td>\n",
       "      <td>9.4</td>\n",
       "      <td>5</td>\n",
       "      <td>0</td>\n",
       "    </tr>\n",
       "    <tr>\n",
       "      <th>1</th>\n",
       "      <td>7.8</td>\n",
       "      <td>0.88</td>\n",
       "      <td>0.00</td>\n",
       "      <td>2.6</td>\n",
       "      <td>0.098</td>\n",
       "      <td>25.0</td>\n",
       "      <td>67.0</td>\n",
       "      <td>0.9968</td>\n",
       "      <td>3.20</td>\n",
       "      <td>0.68</td>\n",
       "      <td>9.8</td>\n",
       "      <td>5</td>\n",
       "      <td>0</td>\n",
       "    </tr>\n",
       "    <tr>\n",
       "      <th>2</th>\n",
       "      <td>7.8</td>\n",
       "      <td>0.76</td>\n",
       "      <td>0.04</td>\n",
       "      <td>2.3</td>\n",
       "      <td>0.092</td>\n",
       "      <td>15.0</td>\n",
       "      <td>54.0</td>\n",
       "      <td>0.9970</td>\n",
       "      <td>3.26</td>\n",
       "      <td>0.65</td>\n",
       "      <td>9.8</td>\n",
       "      <td>5</td>\n",
       "      <td>0</td>\n",
       "    </tr>\n",
       "    <tr>\n",
       "      <th>3</th>\n",
       "      <td>11.2</td>\n",
       "      <td>0.28</td>\n",
       "      <td>0.56</td>\n",
       "      <td>1.9</td>\n",
       "      <td>0.075</td>\n",
       "      <td>17.0</td>\n",
       "      <td>60.0</td>\n",
       "      <td>0.9980</td>\n",
       "      <td>3.16</td>\n",
       "      <td>0.58</td>\n",
       "      <td>9.8</td>\n",
       "      <td>6</td>\n",
       "      <td>0</td>\n",
       "    </tr>\n",
       "    <tr>\n",
       "      <th>4</th>\n",
       "      <td>7.4</td>\n",
       "      <td>0.70</td>\n",
       "      <td>0.00</td>\n",
       "      <td>1.9</td>\n",
       "      <td>0.076</td>\n",
       "      <td>11.0</td>\n",
       "      <td>34.0</td>\n",
       "      <td>0.9978</td>\n",
       "      <td>3.51</td>\n",
       "      <td>0.56</td>\n",
       "      <td>9.4</td>\n",
       "      <td>5</td>\n",
       "      <td>0</td>\n",
       "    </tr>\n",
       "  </tbody>\n",
       "</table>\n",
       "</div>"
      ],
      "text/plain": [
       "   fixed acidity  volatile acidity  citric acid  residual sugar  chlorides  \\\n",
       "0            7.4              0.70         0.00             1.9      0.076   \n",
       "1            7.8              0.88         0.00             2.6      0.098   \n",
       "2            7.8              0.76         0.04             2.3      0.092   \n",
       "3           11.2              0.28         0.56             1.9      0.075   \n",
       "4            7.4              0.70         0.00             1.9      0.076   \n",
       "\n",
       "   free sulfur dioxide  total sulfur dioxide  density    pH  sulphates  \\\n",
       "0                 11.0                  34.0   0.9978  3.51       0.56   \n",
       "1                 25.0                  67.0   0.9968  3.20       0.68   \n",
       "2                 15.0                  54.0   0.9970  3.26       0.65   \n",
       "3                 17.0                  60.0   0.9980  3.16       0.58   \n",
       "4                 11.0                  34.0   0.9978  3.51       0.56   \n",
       "\n",
       "   alcohol  quality  wine_type  \n",
       "0      9.4        5          0  \n",
       "1      9.8        5          0  \n",
       "2      9.8        5          0  \n",
       "3      9.8        6          0  \n",
       "4      9.4        5          0  "
      ]
     },
     "execution_count": 3,
     "metadata": {},
     "output_type": "execute_result"
    }
   ],
   "source": [
    "# Display first few rows\n",
    "wine_data.head()"
   ]
  },
  {
   "cell_type": "code",
   "execution_count": 4,
   "metadata": {
    "ExecuteTime": {
     "end_time": "2025-09-18T09:25:17.338134Z",
     "start_time": "2025-09-18T09:25:17.333738Z"
    },
    "execution": {
     "iopub.execute_input": "2025-09-18T09:58:35.608022Z",
     "iopub.status.busy": "2025-09-18T09:58:35.607941Z",
     "iopub.status.idle": "2025-09-18T09:58:35.612483Z",
     "shell.execute_reply": "2025-09-18T09:58:35.612279Z"
    }
   },
   "outputs": [
    {
     "name": "stdout",
     "output_type": "stream",
     "text": [
      "Data Info:\n",
      "<class 'pandas.core.frame.DataFrame'>\n",
      "RangeIndex: 6497 entries, 0 to 6496\n",
      "Data columns (total 13 columns):\n",
      " #   Column                Non-Null Count  Dtype  \n",
      "---  ------                --------------  -----  \n",
      " 0   fixed acidity         6497 non-null   float64\n",
      " 1   volatile acidity      6497 non-null   float64\n",
      " 2   citric acid           6497 non-null   float64\n",
      " 3   residual sugar        6497 non-null   float64\n",
      " 4   chlorides             6497 non-null   float64\n",
      " 5   free sulfur dioxide   6497 non-null   float64\n",
      " 6   total sulfur dioxide  6497 non-null   float64\n",
      " 7   density               6497 non-null   float64\n",
      " 8   pH                    6497 non-null   float64\n",
      " 9   sulphates             6497 non-null   float64\n",
      " 10  alcohol               6497 non-null   float64\n",
      " 11  quality               6497 non-null   int64  \n",
      " 12  wine_type             6497 non-null   int64  \n",
      "dtypes: float64(11), int64(2)\n",
      "memory usage: 660.0 KB\n",
      "None\n",
      "\n",
      "Missing values:\n",
      "fixed acidity           0\n",
      "volatile acidity        0\n",
      "citric acid             0\n",
      "residual sugar          0\n",
      "chlorides               0\n",
      "free sulfur dioxide     0\n",
      "total sulfur dioxide    0\n",
      "density                 0\n",
      "pH                      0\n",
      "sulphates               0\n",
      "alcohol                 0\n",
      "quality                 0\n",
      "wine_type               0\n",
      "dtype: int64\n"
     ]
    }
   ],
   "source": [
    "# Check data types and missing values\n",
    "print(\"Data Info:\")\n",
    "print(wine_data.info())\n",
    "print(\"\\nMissing values:\")\n",
    "print(wine_data.isnull().sum())"
   ]
  },
  {
   "cell_type": "markdown",
   "metadata": {},
   "source": [
    "## 4. Feature Overview\n",
    "\n",
    "### Physicochemical Properties\n",
    "- **Acidity measures**: fixed acidity, volatile acidity, citric acid\n",
    "- **Sugar & density**: residual sugar, density\n",
    "- **Sulfur compounds**: free/total sulfur dioxide\n",
    "- **Other**: pH, sulphates, alcohol, chlorides"
   ]
  },
  {
   "cell_type": "code",
   "execution_count": 5,
   "metadata": {
    "ExecuteTime": {
     "end_time": "2025-09-18T09:25:17.350441Z",
     "start_time": "2025-09-18T09:25:17.345308Z"
    },
    "execution": {
     "iopub.execute_input": "2025-09-18T09:58:35.613777Z",
     "iopub.status.busy": "2025-09-18T09:58:35.613676Z",
     "iopub.status.idle": "2025-09-18T09:58:35.618850Z",
     "shell.execute_reply": "2025-09-18T09:58:35.618611Z"
    }
   },
   "outputs": [
    {
     "data": {
      "text/html": [
       "<div>\n",
       "<style scoped>\n",
       "    .dataframe tbody tr th:only-of-type {\n",
       "        vertical-align: middle;\n",
       "    }\n",
       "\n",
       "    .dataframe tbody tr th {\n",
       "        vertical-align: top;\n",
       "    }\n",
       "\n",
       "    .dataframe thead th {\n",
       "        text-align: right;\n",
       "    }\n",
       "</style>\n",
       "<table border=\"1\" class=\"dataframe\">\n",
       "  <thead>\n",
       "    <tr style=\"text-align: right;\">\n",
       "      <th></th>\n",
       "      <th>Red Wine</th>\n",
       "      <th>White Wine</th>\n",
       "      <th>Difference</th>\n",
       "    </tr>\n",
       "  </thead>\n",
       "  <tbody>\n",
       "    <tr>\n",
       "      <th>fixed acidity</th>\n",
       "      <td>8.320</td>\n",
       "      <td>6.855</td>\n",
       "      <td>-1.465</td>\n",
       "    </tr>\n",
       "    <tr>\n",
       "      <th>volatile acidity</th>\n",
       "      <td>0.528</td>\n",
       "      <td>0.278</td>\n",
       "      <td>-0.250</td>\n",
       "    </tr>\n",
       "    <tr>\n",
       "      <th>citric acid</th>\n",
       "      <td>0.271</td>\n",
       "      <td>0.334</td>\n",
       "      <td>0.063</td>\n",
       "    </tr>\n",
       "    <tr>\n",
       "      <th>residual sugar</th>\n",
       "      <td>2.539</td>\n",
       "      <td>6.391</td>\n",
       "      <td>3.853</td>\n",
       "    </tr>\n",
       "    <tr>\n",
       "      <th>chlorides</th>\n",
       "      <td>0.087</td>\n",
       "      <td>0.046</td>\n",
       "      <td>-0.042</td>\n",
       "    </tr>\n",
       "    <tr>\n",
       "      <th>free sulfur dioxide</th>\n",
       "      <td>15.875</td>\n",
       "      <td>35.308</td>\n",
       "      <td>19.433</td>\n",
       "    </tr>\n",
       "    <tr>\n",
       "      <th>total sulfur dioxide</th>\n",
       "      <td>46.468</td>\n",
       "      <td>138.361</td>\n",
       "      <td>91.893</td>\n",
       "    </tr>\n",
       "    <tr>\n",
       "      <th>density</th>\n",
       "      <td>0.997</td>\n",
       "      <td>0.994</td>\n",
       "      <td>-0.003</td>\n",
       "    </tr>\n",
       "    <tr>\n",
       "      <th>pH</th>\n",
       "      <td>3.311</td>\n",
       "      <td>3.188</td>\n",
       "      <td>-0.123</td>\n",
       "    </tr>\n",
       "    <tr>\n",
       "      <th>sulphates</th>\n",
       "      <td>0.658</td>\n",
       "      <td>0.490</td>\n",
       "      <td>-0.168</td>\n",
       "    </tr>\n",
       "    <tr>\n",
       "      <th>alcohol</th>\n",
       "      <td>10.423</td>\n",
       "      <td>10.514</td>\n",
       "      <td>0.091</td>\n",
       "    </tr>\n",
       "    <tr>\n",
       "      <th>quality</th>\n",
       "      <td>5.636</td>\n",
       "      <td>5.878</td>\n",
       "      <td>0.242</td>\n",
       "    </tr>\n",
       "  </tbody>\n",
       "</table>\n",
       "</div>"
      ],
      "text/plain": [
       "                      Red Wine  White Wine  Difference\n",
       "fixed acidity            8.320       6.855      -1.465\n",
       "volatile acidity         0.528       0.278      -0.250\n",
       "citric acid              0.271       0.334       0.063\n",
       "residual sugar           2.539       6.391       3.853\n",
       "chlorides                0.087       0.046      -0.042\n",
       "free sulfur dioxide     15.875      35.308      19.433\n",
       "total sulfur dioxide    46.468     138.361      91.893\n",
       "density                  0.997       0.994      -0.003\n",
       "pH                       3.311       3.188      -0.123\n",
       "sulphates                0.658       0.490      -0.168\n",
       "alcohol                 10.423      10.514       0.091\n",
       "quality                  5.636       5.878       0.242"
      ]
     },
     "execution_count": 5,
     "metadata": {},
     "output_type": "execute_result"
    }
   ],
   "source": [
    "# Feature statistics by wine type\n",
    "feature_cols = wine_data.columns[:-1]  # Exclude wine_type\n",
    "comparison = wine_data.groupby('wine_type')[feature_cols].mean().T\n",
    "comparison.columns = ['Red Wine', 'White Wine']\n",
    "comparison['Difference'] = comparison['White Wine'] - comparison['Red Wine']\n",
    "comparison.round(3)"
   ]
  },
  {
   "cell_type": "markdown",
   "metadata": {},
   "source": [
    "## 5. Class Balance Analysis"
   ]
  },
  {
   "cell_type": "code",
   "execution_count": 6,
   "metadata": {
    "ExecuteTime": {
     "end_time": "2025-09-18T09:25:17.424656Z",
     "start_time": "2025-09-18T09:25:17.356810Z"
    },
    "execution": {
     "iopub.execute_input": "2025-09-18T09:58:35.620141Z",
     "iopub.status.busy": "2025-09-18T09:58:35.620067Z",
     "iopub.status.idle": "2025-09-18T09:58:35.741199Z",
     "shell.execute_reply": "2025-09-18T09:58:35.738865Z"
    }
   },
   "outputs": [
    {
     "data": {
      "image/png": "[encoded data removed]",
      "text/plain": [
       "<Figure size 1200x400 with 2 Axes>"
      ]
     },
     "metadata": {},
     "output_type": "display_data"
    }
   ],
   "source": [
    "# Visualize class distribution\n",
    "fig, (ax1, ax2) = plt.subplots(1, 2, figsize=(12, 4))\n",
    "\n",
    "# Bar plot\n",
    "wine_counts = wine_data['wine_type'].value_counts()\n",
    "ax1.bar(['Red (0)', 'White (1)'], wine_counts.values, color=['darkred', 'gold'])\n",
    "ax1.set_title('Wine Type Distribution: The Imbalanced Truth')\n",
    "ax1.set_ylabel('Number of Samples')\n",
    "for i, v in enumerate(wine_counts.values):\n",
    "    ax1.text(i, v + 50, str(v), ha='center')\n",
    "\n",
    "# Pie chart\n",
    "ax2.pie(wine_counts.values, labels=['Red', 'White'], autopct='%1.1f%%', \n",
    "        colors=['darkred', 'gold'], startangle=90)\n",
    "ax2.set_title('Proportion of Wine Types')\n",
    "\n",
    "plt.tight_layout()\n",
    "plt.show()\n",
    "\n",
    "# The dataset shows moderate class imbalance with white wines being ~3x more prevalent.\n",
    "# This imbalance should be considered when selecting evaluation metrics and strategies."
   ]
  },
  {
   "cell_type": "markdown",
   "metadata": {},
   "source": [
    "## 6. Success Metrics Definition\n",
    "\n",
    "### Primary Metrics\n",
    "- **Accuracy**: Overall correctness (appropriate given moderate imbalance)\n",
    "- **F1-score (macro)**: Balanced performance across both classes\n",
    "- **Precision/Recall per class**: Understanding specific error types\n",
    "\n",
    "### Baseline Expectations\n",
    "- Majority class baseline: ~75.4% accuracy\n",
    "- Target performance: >95% accuracy (chemical properties should be distinctive)"
   ]
  },
  {
   "cell_type": "code",
   "execution_count": 7,
   "metadata": {
    "ExecuteTime": {
     "end_time": "2025-09-18T09:25:17.435338Z",
     "start_time": "2025-09-18T09:25:17.432814Z"
    },
    "execution": {
     "iopub.execute_input": "2025-09-18T09:58:35.745386Z",
     "iopub.status.busy": "2025-09-18T09:58:35.744993Z",
     "iopub.status.idle": "2025-09-18T09:58:35.752380Z",
     "shell.execute_reply": "2025-09-18T09:58:35.751393Z"
    }
   },
   "outputs": [
    {
     "name": "stdout",
     "output_type": "stream",
     "text": [
      "Majority Class Baseline:\n",
      "  - Always predict: White\n",
      "  - Accuracy: 75.4%\n",
      "\n",
      "Minimum Viable Performance:\n",
      "  - Should exceed baseline by >10%\n",
      "  - Target accuracy: >85%\n"
     ]
    }
   ],
   "source": [
    "# Calculate baseline metrics\n",
    "majority_class = wine_data['wine_type'].mode()[0]\n",
    "majority_pct = (wine_data['wine_type'] == majority_class).mean() * 100\n",
    "\n",
    "print(f\"Majority Class Baseline:\")\n",
    "print(f\"  - Always predict: {'White' if majority_class == 1 else 'Red'}\")\n",
    "print(f\"  - Accuracy: {majority_pct:.1f}%\")\n",
    "print(f\"\\nMinimum Viable Performance:\")\n",
    "print(f\"  - Should exceed baseline by >10%\")\n",
    "print(f\"  - Target accuracy: >85%\")"
   ]
  },
  {
   "cell_type": "markdown",
   "metadata": {},
   "source": [
    "## 7. Ethical & Regulatory Considerations\n",
    "\n",
    "### Ethical Assessment\n",
    "- **Risk Level**: Low (no personal data, no high-stakes decisions)\n",
    "- **Bias Concerns**: Geographic bias (Portuguese wines only)\n",
    "- **Transparency**: Model should be interpretable for quality control\n",
    "\n",
    "### Sustainability Note\n",
    "- Automated classification reduces manual testing waste\n",
    "- Enables better inventory management, reducing spoilage"
   ]
  },
  {
   "cell_type": "markdown",
   "metadata": {},
   "source": [
    "## 8. Dataset Alignment Statement\n",
    "\n",
    "The UCI Wine Quality dataset aligns well with our classification objectives. It provides 11 physicochemical features that are objectively measurable and directly relevant to distinguishing wine types. The moderate class imbalance (25% red, 75% white) reflects real-world production ratios and is manageable with appropriate techniques.\n",
    "\n",
    "**Strengths**: Clean data, expert-validated labels, interpretable features\n",
    "**Limitations**: Geographic constraint (Portuguese wines), no temporal information\n",
    "**Mitigation**: Acknowledge scope limitations, test on diverse wine samples if deployed"
   ]
  },
  {
   "cell_type": "markdown",
   "metadata": {},
   "source": [
    "## 9. Next Steps\n",
    "\n",
    "1. **Data Understanding**: Deep dive into feature distributions and relationships\n",
    "2. **Preprocessing Pipeline**: Scaling, handling outliers, feature engineering\n",
    "3. **Model Development**: Baseline models, then complexity escalation\n",
    "4. **Evaluation Framework**: Cross-validation setup, metric tracking"
   ]
  },
  {
   "cell_type": "code",
   "execution_count": 8,
   "metadata": {
    "ExecuteTime": {
     "end_time": "2025-09-18T09:25:17.468212Z",
     "start_time": "2025-09-18T09:25:17.444118Z"
    },
    "execution": {
     "iopub.execute_input": "2025-09-18T09:58:35.757202Z",
     "iopub.status.busy": "2025-09-18T09:58:35.756676Z",
     "iopub.status.idle": "2025-09-18T09:58:35.792319Z",
     "shell.execute_reply": "2025-09-18T09:58:35.790813Z"
    }
   },
   "outputs": [
    {
     "name": "stdout",
     "output_type": "stream",
     "text": [
      "✓ Combined dataset saved to data/wine_combined.csv\n"
     ]
    }
   ],
   "source": [
    "# Save processed dataset for next notebooks\n",
    "wine_data.to_csv('../data/wine_combined.csv', index=False)\n",
    "print(\"✓ Combined dataset saved to data/wine_combined.csv\")"
   ]
  },
  {
   "cell_type": "markdown",
   "metadata": {},
   "source": [
    "## Key Takeaways\n",
    "\n",
    "- Binary classification problem with clear chemical distinctions\n",
    "- Moderate class imbalance requires careful metric selection\n",
    "- High interpretability needed for quality control applications\n",
    "- Baseline performance to beat: 75.4% (majority class)"
   ]
  }
 ],
 "metadata": {
  "kernelspec": {
   "display_name": "Python 3",
   "language": "python",
   "name": "python3"
  },
  "language_info": {
   "codemirror_mode": {
    "name": "ipython",
    "version": 3
   },
   "file_extension": ".py",
   "mimetype": "text/x-python",
   "name": "python",
   "nbconvert_exporter": "python",
   "pygments_lexer": "ipython3",
   "version": "3.12.7"
  }
 },
 "nbformat": 4,
 "nbformat_minor": 4
}
